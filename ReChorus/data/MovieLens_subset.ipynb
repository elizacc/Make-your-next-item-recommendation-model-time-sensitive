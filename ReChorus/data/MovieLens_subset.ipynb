{
 "cells": [
  {
   "cell_type": "code",
   "execution_count": 15,
   "id": "0faf3ada",
   "metadata": {
    "ExecuteTime": {
     "end_time": "2023-01-24T09:58:33.201674Z",
     "start_time": "2023-01-24T09:58:33.194694Z"
    }
   },
   "outputs": [],
   "source": [
    "import pandas as pd"
   ]
  },
  {
   "cell_type": "code",
   "execution_count": 76,
   "id": "63399d50",
   "metadata": {
    "ExecuteTime": {
     "end_time": "2023-01-24T10:16:50.508523Z",
     "start_time": "2023-01-24T10:16:49.998680Z"
    }
   },
   "outputs": [],
   "source": [
    "train = pd.read_csv(\"ml-1m/train.csv\", sep='\\t')\n",
    "dev = pd.read_csv(\"ml-1m/dev.csv\", sep='\\t')\n",
    "test = pd.read_csv(\"ml-1m/test.csv\", sep='\\t')\n",
    "train['time'] = pd.to_datetime(train['time'], unit='s')\n",
    "dev['time'] = pd.to_datetime(dev['time'], unit='s')\n",
    "test['time'] = pd.to_datetime(test['time'], unit='s')"
   ]
  },
  {
   "cell_type": "code",
   "execution_count": 77,
   "id": "ed1578a6",
   "metadata": {
    "ExecuteTime": {
     "end_time": "2023-01-24T10:16:51.524145Z",
     "start_time": "2023-01-24T10:16:51.512409Z"
    }
   },
   "outputs": [
    {
     "data": {
      "text/html": [
       "<div>\n",
       "<style scoped>\n",
       "    .dataframe tbody tr th:only-of-type {\n",
       "        vertical-align: middle;\n",
       "    }\n",
       "\n",
       "    .dataframe tbody tr th {\n",
       "        vertical-align: top;\n",
       "    }\n",
       "\n",
       "    .dataframe thead th {\n",
       "        text-align: right;\n",
       "    }\n",
       "</style>\n",
       "<table border=\"1\" class=\"dataframe\">\n",
       "  <thead>\n",
       "    <tr style=\"text-align: right;\">\n",
       "      <th></th>\n",
       "      <th>user_id</th>\n",
       "      <th>item_id</th>\n",
       "      <th>time</th>\n",
       "    </tr>\n",
       "  </thead>\n",
       "  <tbody>\n",
       "    <tr>\n",
       "      <th>0</th>\n",
       "      <td>6040</td>\n",
       "      <td>803</td>\n",
       "      <td>2000-04-25 23:05:32</td>\n",
       "    </tr>\n",
       "    <tr>\n",
       "      <th>1</th>\n",
       "      <td>6040</td>\n",
       "      <td>580</td>\n",
       "      <td>2000-04-25 23:05:54</td>\n",
       "    </tr>\n",
       "    <tr>\n",
       "      <th>2</th>\n",
       "      <td>6040</td>\n",
       "      <td>2192</td>\n",
       "      <td>2000-04-25 23:05:54</td>\n",
       "    </tr>\n",
       "    <tr>\n",
       "      <th>3</th>\n",
       "      <td>6040</td>\n",
       "      <td>1782</td>\n",
       "      <td>2000-04-25 23:06:17</td>\n",
       "    </tr>\n",
       "    <tr>\n",
       "      <th>4</th>\n",
       "      <td>6040</td>\n",
       "      <td>1840</td>\n",
       "      <td>2000-04-25 23:06:17</td>\n",
       "    </tr>\n",
       "  </tbody>\n",
       "</table>\n",
       "</div>"
      ],
      "text/plain": [
       "   user_id  item_id                time\n",
       "0     6040      803 2000-04-25 23:05:32\n",
       "1     6040      580 2000-04-25 23:05:54\n",
       "2     6040     2192 2000-04-25 23:05:54\n",
       "3     6040     1782 2000-04-25 23:06:17\n",
       "4     6040     1840 2000-04-25 23:06:17"
      ]
     },
     "execution_count": 77,
     "metadata": {},
     "output_type": "execute_result"
    }
   ],
   "source": [
    "train.head()"
   ]
  },
  {
   "cell_type": "code",
   "execution_count": 78,
   "id": "4887a00b",
   "metadata": {
    "ExecuteTime": {
     "end_time": "2023-01-24T10:16:53.525372Z",
     "start_time": "2023-01-24T10:16:53.512773Z"
    }
   },
   "outputs": [
    {
     "data": {
      "text/html": [
       "<div>\n",
       "<style scoped>\n",
       "    .dataframe tbody tr th:only-of-type {\n",
       "        vertical-align: middle;\n",
       "    }\n",
       "\n",
       "    .dataframe tbody tr th {\n",
       "        vertical-align: top;\n",
       "    }\n",
       "\n",
       "    .dataframe thead th {\n",
       "        text-align: right;\n",
       "    }\n",
       "</style>\n",
       "<table border=\"1\" class=\"dataframe\">\n",
       "  <thead>\n",
       "    <tr style=\"text-align: right;\">\n",
       "      <th></th>\n",
       "      <th>user_id</th>\n",
       "      <th>item_id</th>\n",
       "      <th>time</th>\n",
       "      <th>neg_items</th>\n",
       "    </tr>\n",
       "  </thead>\n",
       "  <tbody>\n",
       "    <tr>\n",
       "      <th>0</th>\n",
       "      <td>6034</td>\n",
       "      <td>1092</td>\n",
       "      <td>2000-04-26 01:26:28</td>\n",
       "      <td>[2509, 746, 1076, 1395, 1327, 1558, 2298, 2436...</td>\n",
       "    </tr>\n",
       "    <tr>\n",
       "      <th>1</th>\n",
       "      <td>6035</td>\n",
       "      <td>1584</td>\n",
       "      <td>2000-04-26 01:47:12</td>\n",
       "      <td>[3385, 2862, 3106, 533, 3579, 2214, 568, 1827,...</td>\n",
       "    </tr>\n",
       "    <tr>\n",
       "      <th>2</th>\n",
       "      <td>6033</td>\n",
       "      <td>1450</td>\n",
       "      <td>2000-04-26 01:55:12</td>\n",
       "      <td>[647, 2361, 1417, 2479, 3631, 3502, 602, 1232,...</td>\n",
       "    </tr>\n",
       "    <tr>\n",
       "      <th>3</th>\n",
       "      <td>6038</td>\n",
       "      <td>2496</td>\n",
       "      <td>2000-04-26 02:10:51</td>\n",
       "      <td>[634, 1845, 2602, 135, 3165, 571, 2929, 3649, ...</td>\n",
       "    </tr>\n",
       "    <tr>\n",
       "      <th>4</th>\n",
       "      <td>6031</td>\n",
       "      <td>1454</td>\n",
       "      <td>2000-04-26 03:09:49</td>\n",
       "      <td>[3565, 3314, 1943, 1212, 3229, 1768, 1610, 204...</td>\n",
       "    </tr>\n",
       "  </tbody>\n",
       "</table>\n",
       "</div>"
      ],
      "text/plain": [
       "   user_id  item_id                time  \\\n",
       "0     6034     1092 2000-04-26 01:26:28   \n",
       "1     6035     1584 2000-04-26 01:47:12   \n",
       "2     6033     1450 2000-04-26 01:55:12   \n",
       "3     6038     2496 2000-04-26 02:10:51   \n",
       "4     6031     1454 2000-04-26 03:09:49   \n",
       "\n",
       "                                           neg_items  \n",
       "0  [2509, 746, 1076, 1395, 1327, 1558, 2298, 2436...  \n",
       "1  [3385, 2862, 3106, 533, 3579, 2214, 568, 1827,...  \n",
       "2  [647, 2361, 1417, 2479, 3631, 3502, 602, 1232,...  \n",
       "3  [634, 1845, 2602, 135, 3165, 571, 2929, 3649, ...  \n",
       "4  [3565, 3314, 1943, 1212, 3229, 1768, 1610, 204...  "
      ]
     },
     "execution_count": 78,
     "metadata": {},
     "output_type": "execute_result"
    }
   ],
   "source": [
    "dev.head()"
   ]
  },
  {
   "cell_type": "code",
   "execution_count": 79,
   "id": "f31d8097",
   "metadata": {
    "ExecuteTime": {
     "end_time": "2023-01-24T10:16:54.136735Z",
     "start_time": "2023-01-24T10:16:54.124685Z"
    }
   },
   "outputs": [
    {
     "data": {
      "text/html": [
       "<div>\n",
       "<style scoped>\n",
       "    .dataframe tbody tr th:only-of-type {\n",
       "        vertical-align: middle;\n",
       "    }\n",
       "\n",
       "    .dataframe tbody tr th {\n",
       "        vertical-align: top;\n",
       "    }\n",
       "\n",
       "    .dataframe thead th {\n",
       "        text-align: right;\n",
       "    }\n",
       "</style>\n",
       "<table border=\"1\" class=\"dataframe\">\n",
       "  <thead>\n",
       "    <tr style=\"text-align: right;\">\n",
       "      <th></th>\n",
       "      <th>user_id</th>\n",
       "      <th>item_id</th>\n",
       "      <th>time</th>\n",
       "      <th>neg_items</th>\n",
       "    </tr>\n",
       "  </thead>\n",
       "  <tbody>\n",
       "    <tr>\n",
       "      <th>0</th>\n",
       "      <td>6034</td>\n",
       "      <td>2776</td>\n",
       "      <td>2000-04-26 01:26:28</td>\n",
       "      <td>[2733, 2608, 1654, 3265, 836, 764, 1732, 3432,...</td>\n",
       "    </tr>\n",
       "    <tr>\n",
       "      <th>1</th>\n",
       "      <td>6035</td>\n",
       "      <td>2931</td>\n",
       "      <td>2000-04-26 01:47:20</td>\n",
       "      <td>[3013, 1072, 640, 2037, 1156, 973, 2917, 1205,...</td>\n",
       "    </tr>\n",
       "    <tr>\n",
       "      <th>2</th>\n",
       "      <td>6033</td>\n",
       "      <td>1540</td>\n",
       "      <td>2000-04-26 01:55:12</td>\n",
       "      <td>[2345, 1353, 3092, 608, 1435, 2499, 1273, 181,...</td>\n",
       "    </tr>\n",
       "    <tr>\n",
       "      <th>3</th>\n",
       "      <td>6038</td>\n",
       "      <td>1095</td>\n",
       "      <td>2000-04-26 02:46:44</td>\n",
       "      <td>[2122, 298, 2968, 731, 1971, 2925, 1796, 1824,...</td>\n",
       "    </tr>\n",
       "    <tr>\n",
       "      <th>4</th>\n",
       "      <td>6031</td>\n",
       "      <td>355</td>\n",
       "      <td>2000-04-26 03:09:49</td>\n",
       "      <td>[607, 3609, 2677, 1216, 1220, 1332, 137, 953, ...</td>\n",
       "    </tr>\n",
       "  </tbody>\n",
       "</table>\n",
       "</div>"
      ],
      "text/plain": [
       "   user_id  item_id                time  \\\n",
       "0     6034     2776 2000-04-26 01:26:28   \n",
       "1     6035     2931 2000-04-26 01:47:20   \n",
       "2     6033     1540 2000-04-26 01:55:12   \n",
       "3     6038     1095 2000-04-26 02:46:44   \n",
       "4     6031      355 2000-04-26 03:09:49   \n",
       "\n",
       "                                           neg_items  \n",
       "0  [2733, 2608, 1654, 3265, 836, 764, 1732, 3432,...  \n",
       "1  [3013, 1072, 640, 2037, 1156, 973, 2917, 1205,...  \n",
       "2  [2345, 1353, 3092, 608, 1435, 2499, 1273, 181,...  \n",
       "3  [2122, 298, 2968, 731, 1971, 2925, 1796, 1824,...  \n",
       "4  [607, 3609, 2677, 1216, 1220, 1332, 137, 953, ...  "
      ]
     },
     "execution_count": 79,
     "metadata": {},
     "output_type": "execute_result"
    }
   ],
   "source": [
    "test.head()"
   ]
  },
  {
   "cell_type": "code",
   "execution_count": 20,
   "id": "5d8c1f88",
   "metadata": {
    "ExecuteTime": {
     "end_time": "2023-01-24T09:58:36.426815Z",
     "start_time": "2023-01-24T09:58:36.360290Z"
    }
   },
   "outputs": [],
   "source": [
    "users_to_remove = test[~test['item_id'].isin(train['item_id'])]['user_id'].values\n",
    "train = train[~train['user_id'].isin(users_to_remove)]\n",
    "dev = dev[~dev['user_id'].isin(users_to_remove)]\n",
    "test = test[~test['user_id'].isin(users_to_remove)]"
   ]
  },
  {
   "cell_type": "code",
   "execution_count": 20,
   "id": "45a705b0",
   "metadata": {
    "ExecuteTime": {
     "end_time": "2023-01-15T17:09:24.444516Z",
     "start_time": "2023-01-15T17:09:18.857914Z"
    }
   },
   "outputs": [],
   "source": [
    "import os\n",
    "DATASET = 'ml-1m-cleared'  # only support \"ml-100k\" and \"ml-1m\" now\n",
    "RAW_PATH = os.path.join('./', DATASET)\n",
    "\n",
    "train.to_csv(os.path.join(RAW_PATH, 'train.csv'), sep='\\t', index=False)\n",
    "dev.to_csv(os.path.join(RAW_PATH, 'dev.csv'), sep='\\t', index=False)\n",
    "test.to_csv(os.path.join(RAW_PATH, 'test.csv'), sep='\\t', index=False)"
   ]
  },
  {
   "cell_type": "code",
   "execution_count": 80,
   "id": "3d4c87f4",
   "metadata": {
    "ExecuteTime": {
     "end_time": "2023-01-24T10:16:56.825611Z",
     "start_time": "2023-01-24T10:16:56.769697Z"
    }
   },
   "outputs": [],
   "source": [
    "np.random.seed(8)\n",
    "subset_users = np.random.choice(train['user_id'], size=20, replace=False)"
   ]
  },
  {
   "cell_type": "code",
   "execution_count": 81,
   "id": "5b8b9d7e",
   "metadata": {
    "ExecuteTime": {
     "end_time": "2023-01-24T10:16:57.226503Z",
     "start_time": "2023-01-24T10:16:57.194901Z"
    }
   },
   "outputs": [],
   "source": [
    "train_subset = train[train['user_id'].isin(subset_users)]\n",
    "dev_subset = dev[dev['user_id'].isin(subset_users)]\n",
    "test_subset = test[test['user_id'].isin(subset_users)]"
   ]
  },
  {
   "cell_type": "code",
   "execution_count": 82,
   "id": "c56fb973",
   "metadata": {
    "ExecuteTime": {
     "end_time": "2023-01-24T10:16:57.739864Z",
     "start_time": "2023-01-24T10:16:57.730616Z"
    }
   },
   "outputs": [],
   "source": [
    "users_to_remove = dev_subset[~dev_subset['item_id'].isin(train_subset['item_id'])]['user_id']\n",
    "train_subset = train_subset[~train_subset['user_id'].isin(users_to_remove)]\n",
    "dev_subset = dev_subset[~dev_subset['user_id'].isin(users_to_remove)]"
   ]
  },
  {
   "cell_type": "code",
   "execution_count": 83,
   "id": "2538485a",
   "metadata": {
    "ExecuteTime": {
     "end_time": "2023-01-24T10:16:58.408137Z",
     "start_time": "2023-01-24T10:16:58.389506Z"
    }
   },
   "outputs": [],
   "source": [
    "users_to_remove = test_subset[~test_subset['item_id'].isin(train_subset['item_id'])]['user_id']\n",
    "train_subset = train_subset[~train_subset['user_id'].isin(users_to_remove)]\n",
    "test_subset = test_subset[~test_subset['user_id'].isin(users_to_remove)]"
   ]
  },
  {
   "cell_type": "code",
   "execution_count": 92,
   "id": "3b09d363",
   "metadata": {
    "ExecuteTime": {
     "end_time": "2023-01-24T10:18:56.285329Z",
     "start_time": "2023-01-24T10:18:56.261417Z"
    }
   },
   "outputs": [
    {
     "data": {
      "text/html": [
       "<div>\n",
       "<style scoped>\n",
       "    .dataframe tbody tr th:only-of-type {\n",
       "        vertical-align: middle;\n",
       "    }\n",
       "\n",
       "    .dataframe tbody tr th {\n",
       "        vertical-align: top;\n",
       "    }\n",
       "\n",
       "    .dataframe thead th {\n",
       "        text-align: right;\n",
       "    }\n",
       "</style>\n",
       "<table border=\"1\" class=\"dataframe\">\n",
       "  <thead>\n",
       "    <tr style=\"text-align: right;\">\n",
       "      <th></th>\n",
       "      <th>user_id</th>\n",
       "      <th>item_id</th>\n",
       "      <th>time</th>\n",
       "      <th>neg_items</th>\n",
       "    </tr>\n",
       "  </thead>\n",
       "  <tbody>\n",
       "  </tbody>\n",
       "</table>\n",
       "</div>"
      ],
      "text/plain": [
       "Empty DataFrame\n",
       "Columns: [user_id, item_id, time, neg_items]\n",
       "Index: []"
      ]
     },
     "execution_count": 92,
     "metadata": {},
     "output_type": "execute_result"
    }
   ],
   "source": [
    "dev_subset[~dev_subset['item_id'].isin(train_subset['item_id'])]"
   ]
  },
  {
   "cell_type": "code",
   "execution_count": 93,
   "id": "77a6deb2",
   "metadata": {
    "ExecuteTime": {
     "end_time": "2023-01-24T10:18:56.867190Z",
     "start_time": "2023-01-24T10:18:56.856758Z"
    }
   },
   "outputs": [
    {
     "data": {
      "text/html": [
       "<div>\n",
       "<style scoped>\n",
       "    .dataframe tbody tr th:only-of-type {\n",
       "        vertical-align: middle;\n",
       "    }\n",
       "\n",
       "    .dataframe tbody tr th {\n",
       "        vertical-align: top;\n",
       "    }\n",
       "\n",
       "    .dataframe thead th {\n",
       "        text-align: right;\n",
       "    }\n",
       "</style>\n",
       "<table border=\"1\" class=\"dataframe\">\n",
       "  <thead>\n",
       "    <tr style=\"text-align: right;\">\n",
       "      <th></th>\n",
       "      <th>user_id</th>\n",
       "      <th>item_id</th>\n",
       "      <th>time</th>\n",
       "      <th>neg_items</th>\n",
       "    </tr>\n",
       "  </thead>\n",
       "  <tbody>\n",
       "  </tbody>\n",
       "</table>\n",
       "</div>"
      ],
      "text/plain": [
       "Empty DataFrame\n",
       "Columns: [user_id, item_id, time, neg_items]\n",
       "Index: []"
      ]
     },
     "execution_count": 93,
     "metadata": {},
     "output_type": "execute_result"
    }
   ],
   "source": [
    "test_subset[~test_subset['item_id'].isin(train_subset['item_id'])]"
   ]
  },
  {
   "cell_type": "code",
   "execution_count": 86,
   "id": "31b08b6a",
   "metadata": {
    "ExecuteTime": {
     "end_time": "2023-01-24T10:17:01.648637Z",
     "start_time": "2023-01-24T10:17:01.638197Z"
    }
   },
   "outputs": [
    {
     "data": {
      "text/plain": [
       "(17, 4)"
      ]
     },
     "execution_count": 86,
     "metadata": {},
     "output_type": "execute_result"
    }
   ],
   "source": [
    "dev_subset.shape"
   ]
  },
  {
   "cell_type": "code",
   "execution_count": 48,
   "id": "defd1137",
   "metadata": {
    "ExecuteTime": {
     "end_time": "2022-12-12T11:11:40.462293Z",
     "start_time": "2022-12-12T11:11:40.435791Z"
    }
   },
   "outputs": [],
   "source": [
    "train_subset.to_csv(\"ml-1m-subset/train.csv\", index=None, sep='\\t')\n",
    "dev_subset.to_csv(\"ml-1m-subset/dev.csv\", index=None, sep='\\t')\n",
    "test_subset.to_csv(\"ml-1m-subset/test.csv\", index=None, sep='\\t')"
   ]
  }
 ],
 "metadata": {
  "kernelspec": {
   "display_name": "Python 3",
   "language": "python",
   "name": "python3"
  },
  "language_info": {
   "codemirror_mode": {
    "name": "ipython",
    "version": 3
   },
   "file_extension": ".py",
   "mimetype": "text/x-python",
   "name": "python",
   "nbconvert_exporter": "python",
   "pygments_lexer": "ipython3",
   "version": "3.9.12"
  },
  "toc": {
   "base_numbering": 1,
   "nav_menu": {},
   "number_sections": true,
   "sideBar": true,
   "skip_h1_title": false,
   "title_cell": "Table of Contents",
   "title_sidebar": "Contents",
   "toc_cell": false,
   "toc_position": {},
   "toc_section_display": true,
   "toc_window_display": false
  },
  "varInspector": {
   "cols": {
    "lenName": 16,
    "lenType": 16,
    "lenVar": 40
   },
   "kernels_config": {
    "python": {
     "delete_cmd_postfix": "",
     "delete_cmd_prefix": "del ",
     "library": "var_list.py",
     "varRefreshCmd": "print(var_dic_list())"
    },
    "r": {
     "delete_cmd_postfix": ") ",
     "delete_cmd_prefix": "rm(",
     "library": "var_list.r",
     "varRefreshCmd": "cat(var_dic_list()) "
    }
   },
   "types_to_exclude": [
    "module",
    "function",
    "builtin_function_or_method",
    "instance",
    "_Feature"
   ],
   "window_display": false
  }
 },
 "nbformat": 4,
 "nbformat_minor": 5
}
