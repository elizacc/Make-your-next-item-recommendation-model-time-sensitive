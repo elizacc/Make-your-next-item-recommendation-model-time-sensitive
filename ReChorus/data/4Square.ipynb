{
 "cells": [
  {
   "cell_type": "code",
   "execution_count": 21,
   "id": "d625512e",
   "metadata": {
    "ExecuteTime": {
     "end_time": "2023-05-07T10:27:44.251460Z",
     "start_time": "2023-05-07T10:27:44.238349Z"
    }
   },
   "outputs": [],
   "source": [
    "import pandas as pd\n",
    "import os\n",
    "from datetime import datetime"
   ]
  },
  {
   "cell_type": "code",
   "execution_count": 22,
   "id": "1c5e9978",
   "metadata": {
    "ExecuteTime": {
     "end_time": "2023-05-07T10:27:47.290096Z",
     "start_time": "2023-05-07T10:27:47.262292Z"
    }
   },
   "outputs": [],
   "source": [
    "DATASET = '4Square_NYC'  # only support \"ml-100k\" and \"ml-1m\" now\n",
    "RAW_PATH = os.path.join('./', DATASET)\n",
    "\n",
    "RANDOM_SEED = 0\n",
    "NEG_ITEMS = 99"
   ]
  },
  {
   "cell_type": "markdown",
   "id": "518821a5",
   "metadata": {},
   "source": [
    "# Load Data"
   ]
  },
  {
   "cell_type": "code",
   "execution_count": 23,
   "id": "1aa26def",
   "metadata": {
    "ExecuteTime": {
     "end_time": "2023-05-07T10:27:52.350390Z",
     "start_time": "2023-05-07T10:27:50.393530Z"
    }
   },
   "outputs": [],
   "source": [
    "inters = []\n",
    "with open('4Square_NYC/dataset_TSMC2014_NYC.txt') as f:\n",
    "    for line in f.readlines():\n",
    "        inters.append(line.strip('\\n').split('\\t'))"
   ]
  },
  {
   "cell_type": "code",
   "execution_count": 24,
   "id": "bad4f438",
   "metadata": {
    "ExecuteTime": {
     "end_time": "2023-05-07T10:27:55.717210Z",
     "start_time": "2023-05-07T10:27:55.352999Z"
    }
   },
   "outputs": [],
   "source": [
    "df = pd.DataFrame(inters)"
   ]
  },
  {
   "cell_type": "code",
   "execution_count": 25,
   "id": "89423010",
   "metadata": {
    "ExecuteTime": {
     "end_time": "2023-05-07T10:27:58.901261Z",
     "start_time": "2023-05-07T10:27:58.830765Z"
    }
   },
   "outputs": [],
   "source": [
    "data_df = df[[0, 1, 7]]"
   ]
  },
  {
   "cell_type": "code",
   "execution_count": 26,
   "id": "0cc03095",
   "metadata": {
    "ExecuteTime": {
     "end_time": "2023-05-07T10:28:01.744966Z",
     "start_time": "2023-05-07T10:28:01.719598Z"
    }
   },
   "outputs": [],
   "source": [
    "data_df.columns = ['user_id', 'item_id', 'time']"
   ]
  },
  {
   "cell_type": "code",
   "execution_count": 27,
   "id": "72be23f1",
   "metadata": {
    "ExecuteTime": {
     "end_time": "2023-05-07T10:29:56.877057Z",
     "start_time": "2023-05-07T10:28:04.612947Z"
    }
   },
   "outputs": [
    {
     "name": "stderr",
     "output_type": "stream",
     "text": [
      "C:\\Users\\e.makhneva\\Anaconda3\\lib\\site-packages\\pandas\\core\\frame.py:3607: SettingWithCopyWarning: \n",
      "A value is trying to be set on a copy of a slice from a DataFrame.\n",
      "Try using .loc[row_indexer,col_indexer] = value instead\n",
      "\n",
      "See the caveats in the documentation: https://pandas.pydata.org/pandas-docs/stable/user_guide/indexing.html#returning-a-view-versus-a-copy\n",
      "  self._set_item(key, value)\n"
     ]
    }
   ],
   "source": [
    "data_df['time'] = (pd.to_datetime(data_df['time']).dt.tz_localize(None) - pd.Timestamp(\"1970-01-01\")) // pd.Timedelta('1s')"
   ]
  },
  {
   "cell_type": "markdown",
   "id": "5b246b69",
   "metadata": {},
   "source": [
    "## Statistics"
   ]
  },
  {
   "cell_type": "code",
   "execution_count": 28,
   "id": "8b212839",
   "metadata": {
    "ExecuteTime": {
     "end_time": "2023-05-07T10:30:24.190557Z",
     "start_time": "2023-05-07T10:30:23.925115Z"
    }
   },
   "outputs": [],
   "source": [
    "n_users = data_df['user_id'].value_counts().size\n",
    "n_items = data_df['item_id'].value_counts().size\n",
    "n_clicks = len(data_df)\n",
    "min_time = data_df['time'].min()\n",
    "max_time = data_df['time'].max()"
   ]
  },
  {
   "cell_type": "code",
   "execution_count": 29,
   "id": "a5193775",
   "metadata": {
    "ExecuteTime": {
     "end_time": "2023-05-07T10:30:27.420016Z",
     "start_time": "2023-05-07T10:30:27.405462Z"
    }
   },
   "outputs": [
    {
     "name": "stdout",
     "output_type": "stream",
     "text": [
      "# Users: 1083\n",
      "# Items: 38333\n",
      "# Interactions: 227428\n",
      "Time Span: 2012-04-03/2013-02-16\n"
     ]
    }
   ],
   "source": [
    "time_format = '%Y-%m-%d'\n",
    "\n",
    "print('# Users:', n_users)\n",
    "print('# Items:', n_items)\n",
    "print('# Interactions:', n_clicks)\n",
    "print('Time Span: {}/{}'.format(\n",
    "    datetime.utcfromtimestamp(min_time).strftime(time_format),\n",
    "    datetime.utcfromtimestamp(max_time).strftime(time_format))\n",
    ")"
   ]
  },
  {
   "cell_type": "markdown",
   "id": "bd7244ff",
   "metadata": {},
   "source": [
    "# Build Dataset\n",
    "\n",
    "## Interaction data"
   ]
  },
  {
   "cell_type": "code",
   "execution_count": 30,
   "id": "c3f5648a",
   "metadata": {
    "ExecuteTime": {
     "end_time": "2023-05-07T10:30:30.534782Z",
     "start_time": "2023-05-07T10:30:30.525042Z"
    }
   },
   "outputs": [],
   "source": [
    "np.random.seed(RANDOM_SEED)"
   ]
  },
  {
   "cell_type": "code",
   "execution_count": 31,
   "id": "6a07fefa",
   "metadata": {
    "ExecuteTime": {
     "end_time": "2023-05-07T10:30:33.911586Z",
     "start_time": "2023-05-07T10:30:33.082218Z"
    }
   },
   "outputs": [
    {
     "data": {
      "text/html": [
       "<div>\n",
       "<style scoped>\n",
       "    .dataframe tbody tr th:only-of-type {\n",
       "        vertical-align: middle;\n",
       "    }\n",
       "\n",
       "    .dataframe tbody tr th {\n",
       "        vertical-align: top;\n",
       "    }\n",
       "\n",
       "    .dataframe thead th {\n",
       "        text-align: right;\n",
       "    }\n",
       "</style>\n",
       "<table border=\"1\" class=\"dataframe\">\n",
       "  <thead>\n",
       "    <tr style=\"text-align: right;\">\n",
       "      <th></th>\n",
       "      <th>user_id</th>\n",
       "      <th>item_id</th>\n",
       "      <th>time</th>\n",
       "    </tr>\n",
       "  </thead>\n",
       "  <tbody>\n",
       "    <tr>\n",
       "      <th>0</th>\n",
       "      <td>470</td>\n",
       "      <td>49bbd6c0f964a520f4531fe3</td>\n",
       "      <td>1333476009</td>\n",
       "    </tr>\n",
       "    <tr>\n",
       "      <th>1</th>\n",
       "      <td>979</td>\n",
       "      <td>4a43c0aef964a520c6a61fe3</td>\n",
       "      <td>1333476025</td>\n",
       "    </tr>\n",
       "    <tr>\n",
       "      <th>2</th>\n",
       "      <td>69</td>\n",
       "      <td>4c5cc7b485a1e21e00d35711</td>\n",
       "      <td>1333476144</td>\n",
       "    </tr>\n",
       "    <tr>\n",
       "      <th>3</th>\n",
       "      <td>395</td>\n",
       "      <td>4bc7086715a7ef3bef9878da</td>\n",
       "      <td>1333476161</td>\n",
       "    </tr>\n",
       "    <tr>\n",
       "      <th>4</th>\n",
       "      <td>87</td>\n",
       "      <td>4cf2c5321d18a143951b5cec</td>\n",
       "      <td>1333476180</td>\n",
       "    </tr>\n",
       "  </tbody>\n",
       "</table>\n",
       "</div>"
      ],
      "text/plain": [
       "  user_id                   item_id        time\n",
       "0     470  49bbd6c0f964a520f4531fe3  1333476009\n",
       "1     979  4a43c0aef964a520c6a61fe3  1333476025\n",
       "2      69  4c5cc7b485a1e21e00d35711  1333476144\n",
       "3     395  4bc7086715a7ef3bef9878da  1333476161\n",
       "4      87  4cf2c5321d18a143951b5cec  1333476180"
      ]
     },
     "execution_count": 31,
     "metadata": {},
     "output_type": "execute_result"
    }
   ],
   "source": [
    "out_df = data_df[['user_id', 'item_id', 'time']]\n",
    "out_df = out_df.drop_duplicates(['user_id', 'item_id', 'time'])\n",
    "out_df.sort_values(by=['time', 'user_id'], kind='mergesort', inplace=True)\n",
    "out_df = out_df.reset_index(drop=True)\n",
    "out_df.head()"
   ]
  },
  {
   "cell_type": "code",
   "execution_count": 32,
   "id": "acc45080",
   "metadata": {
    "ExecuteTime": {
     "end_time": "2023-05-07T10:30:37.646965Z",
     "start_time": "2023-05-07T10:30:36.696900Z"
    }
   },
   "outputs": [
    {
     "data": {
      "text/html": [
       "<div>\n",
       "<style scoped>\n",
       "    .dataframe tbody tr th:only-of-type {\n",
       "        vertical-align: middle;\n",
       "    }\n",
       "\n",
       "    .dataframe tbody tr th {\n",
       "        vertical-align: top;\n",
       "    }\n",
       "\n",
       "    .dataframe thead th {\n",
       "        text-align: right;\n",
       "    }\n",
       "</style>\n",
       "<table border=\"1\" class=\"dataframe\">\n",
       "  <thead>\n",
       "    <tr style=\"text-align: right;\">\n",
       "      <th></th>\n",
       "      <th>user_id</th>\n",
       "      <th>item_id</th>\n",
       "      <th>time</th>\n",
       "    </tr>\n",
       "  </thead>\n",
       "  <tbody>\n",
       "    <tr>\n",
       "      <th>0</th>\n",
       "      <td>497</td>\n",
       "      <td>2389</td>\n",
       "      <td>1333476009</td>\n",
       "    </tr>\n",
       "    <tr>\n",
       "      <th>1</th>\n",
       "      <td>1061</td>\n",
       "      <td>3922</td>\n",
       "      <td>1333476025</td>\n",
       "    </tr>\n",
       "    <tr>\n",
       "      <th>2</th>\n",
       "      <td>740</td>\n",
       "      <td>20329</td>\n",
       "      <td>1333476144</td>\n",
       "    </tr>\n",
       "    <tr>\n",
       "      <th>3</th>\n",
       "      <td>413</td>\n",
       "      <td>15115</td>\n",
       "      <td>1333476161</td>\n",
       "    </tr>\n",
       "    <tr>\n",
       "      <th>4</th>\n",
       "      <td>940</td>\n",
       "      <td>23551</td>\n",
       "      <td>1333476180</td>\n",
       "    </tr>\n",
       "  </tbody>\n",
       "</table>\n",
       "</div>"
      ],
      "text/plain": [
       "   user_id  item_id        time\n",
       "0      497     2389  1333476009\n",
       "1     1061     3922  1333476025\n",
       "2      740    20329  1333476144\n",
       "3      413    15115  1333476161\n",
       "4      940    23551  1333476180"
      ]
     },
     "execution_count": 32,
     "metadata": {},
     "output_type": "execute_result"
    }
   ],
   "source": [
    "# reindex (start from 1)\n",
    "\n",
    "uids = sorted(out_df['user_id'].unique())\n",
    "user2id = dict(zip(uids, range(1, len(uids) + 1)))\n",
    "iids = sorted(out_df['item_id'].unique())\n",
    "item2id = dict(zip(iids, range(1, len(iids) + 1)))\n",
    "\n",
    "out_df['user_id'] = out_df['user_id'].apply(lambda x: user2id[x])\n",
    "out_df['item_id'] = out_df['item_id'].apply(lambda x: item2id[x])\n",
    "out_df.head()"
   ]
  },
  {
   "cell_type": "code",
   "execution_count": 33,
   "id": "053c4823",
   "metadata": {
    "ExecuteTime": {
     "end_time": "2023-05-07T10:30:40.502938Z",
     "start_time": "2023-05-07T10:30:40.448684Z"
    }
   },
   "outputs": [],
   "source": [
    "out_df['time_shift'] = out_df.groupby('user_id').time.shift(-1)"
   ]
  },
  {
   "cell_type": "code",
   "execution_count": 59,
   "id": "e9e4e961",
   "metadata": {
    "ExecuteTime": {
     "end_time": "2023-05-02T19:16:34.980844Z",
     "start_time": "2023-05-02T19:16:34.875157Z"
    }
   },
   "outputs": [],
   "source": [
    "count_items = {}\n",
    "for cat, val in df.groupby(3)[3].count().sort_values(ascending=False).iteritems():\n",
    "    count_items[cat] = val"
   ]
  },
  {
   "cell_type": "code",
   "execution_count": 40,
   "id": "612ebc69",
   "metadata": {
    "ExecuteTime": {
     "end_time": "2023-05-02T18:19:50.986135Z",
     "start_time": "2023-05-02T18:19:32.021595Z"
    }
   },
   "outputs": [],
   "source": [
    "items = {}\n",
    "for cat in df[3].unique():\n",
    "    items[cat] = item2id[df[df[3]==cat][1].values[0]]"
   ]
  },
  {
   "cell_type": "code",
   "execution_count": 34,
   "id": "9dc22121",
   "metadata": {
    "ExecuteTime": {
     "end_time": "2023-05-07T10:30:43.804524Z",
     "start_time": "2023-05-07T10:30:43.458255Z"
    }
   },
   "outputs": [],
   "source": [
    "# leave one out spliting\n",
    "\n",
    "clicked_item_set = dict()\n",
    "for user_id, seq_df in out_df.groupby('user_id'):\n",
    "    clicked_item_set[user_id] = set(seq_df['item_id'].values.tolist())\n",
    "    \n",
    "def generate_dev_test(data_df):\n",
    "    result_dfs = []\n",
    "    n_items = data_df['item_id'].value_counts().size\n",
    "    for idx in range(2):\n",
    "        result_df = data_df.groupby('user_id').tail(1).copy()\n",
    "        data_df = data_df.drop(result_df.index)\n",
    "        neg_items = np.random.randint(1, n_items + 1, (len(result_df), NEG_ITEMS))\n",
    "        for i, uid in enumerate(result_df['user_id'].values):\n",
    "            user_clicked = clicked_item_set[uid]\n",
    "            for j in range(len(neg_items[i])):\n",
    "                while neg_items[i][j] in user_clicked:\n",
    "                    neg_items[i][j] = np.random.randint(1, n_items + 1)\n",
    "        result_df['neg_items'] = neg_items.tolist()\n",
    "        result_dfs.append(result_df)\n",
    "    return result_dfs, data_df"
   ]
  },
  {
   "cell_type": "code",
   "execution_count": 35,
   "id": "eba2f64b",
   "metadata": {
    "ExecuteTime": {
     "end_time": "2023-05-07T10:30:47.634428Z",
     "start_time": "2023-05-07T10:30:46.813518Z"
    }
   },
   "outputs": [
    {
     "data": {
      "text/plain": [
       "(225012, 1083, 1083)"
      ]
     },
     "execution_count": 35,
     "metadata": {},
     "output_type": "execute_result"
    }
   ],
   "source": [
    "leave_df = out_df.groupby('user_id').head(1)\n",
    "data_df = out_df.drop(leave_df.index)\n",
    "\n",
    "[test_df, dev_df], data_df = generate_dev_test(data_df)\n",
    "train_df = pd.concat([leave_df, data_df]).sort_index()\n",
    "\n",
    "len(train_df), len(dev_df), len(test_df)"
   ]
  },
  {
   "cell_type": "code",
   "execution_count": 36,
   "id": "415ba318",
   "metadata": {
    "ExecuteTime": {
     "end_time": "2023-05-07T10:30:50.802014Z",
     "start_time": "2023-05-07T10:30:50.769955Z"
    }
   },
   "outputs": [
    {
     "data": {
      "text/html": [
       "<div>\n",
       "<style scoped>\n",
       "    .dataframe tbody tr th:only-of-type {\n",
       "        vertical-align: middle;\n",
       "    }\n",
       "\n",
       "    .dataframe tbody tr th {\n",
       "        vertical-align: top;\n",
       "    }\n",
       "\n",
       "    .dataframe thead th {\n",
       "        text-align: right;\n",
       "    }\n",
       "</style>\n",
       "<table border=\"1\" class=\"dataframe\">\n",
       "  <thead>\n",
       "    <tr style=\"text-align: right;\">\n",
       "      <th></th>\n",
       "      <th>user_id</th>\n",
       "      <th>item_id</th>\n",
       "      <th>time</th>\n",
       "      <th>time_shift</th>\n",
       "    </tr>\n",
       "  </thead>\n",
       "  <tbody>\n",
       "    <tr>\n",
       "      <th>0</th>\n",
       "      <td>497</td>\n",
       "      <td>2389</td>\n",
       "      <td>1333476009</td>\n",
       "      <td>1.333496e+09</td>\n",
       "    </tr>\n",
       "    <tr>\n",
       "      <th>1</th>\n",
       "      <td>1061</td>\n",
       "      <td>3922</td>\n",
       "      <td>1333476025</td>\n",
       "      <td>1.333498e+09</td>\n",
       "    </tr>\n",
       "    <tr>\n",
       "      <th>2</th>\n",
       "      <td>740</td>\n",
       "      <td>20329</td>\n",
       "      <td>1333476144</td>\n",
       "      <td>1.333482e+09</td>\n",
       "    </tr>\n",
       "    <tr>\n",
       "      <th>3</th>\n",
       "      <td>413</td>\n",
       "      <td>15115</td>\n",
       "      <td>1333476161</td>\n",
       "      <td>1.334024e+09</td>\n",
       "    </tr>\n",
       "    <tr>\n",
       "      <th>4</th>\n",
       "      <td>940</td>\n",
       "      <td>23551</td>\n",
       "      <td>1333476180</td>\n",
       "      <td>1.333476e+09</td>\n",
       "    </tr>\n",
       "  </tbody>\n",
       "</table>\n",
       "</div>"
      ],
      "text/plain": [
       "   user_id  item_id        time    time_shift\n",
       "0      497     2389  1333476009  1.333496e+09\n",
       "1     1061     3922  1333476025  1.333498e+09\n",
       "2      740    20329  1333476144  1.333482e+09\n",
       "3      413    15115  1333476161  1.334024e+09\n",
       "4      940    23551  1333476180  1.333476e+09"
      ]
     },
     "execution_count": 36,
     "metadata": {},
     "output_type": "execute_result"
    }
   ],
   "source": [
    "train_df.head()"
   ]
  },
  {
   "cell_type": "code",
   "execution_count": 37,
   "id": "89697b3d",
   "metadata": {
    "ExecuteTime": {
     "end_time": "2023-05-07T10:30:54.081602Z",
     "start_time": "2023-05-07T10:30:54.030821Z"
    }
   },
   "outputs": [
    {
     "data": {
      "text/html": [
       "<div>\n",
       "<style scoped>\n",
       "    .dataframe tbody tr th:only-of-type {\n",
       "        vertical-align: middle;\n",
       "    }\n",
       "\n",
       "    .dataframe tbody tr th {\n",
       "        vertical-align: top;\n",
       "    }\n",
       "\n",
       "    .dataframe thead th {\n",
       "        text-align: right;\n",
       "    }\n",
       "</style>\n",
       "<table border=\"1\" class=\"dataframe\">\n",
       "  <thead>\n",
       "    <tr style=\"text-align: right;\">\n",
       "      <th></th>\n",
       "      <th>user_id</th>\n",
       "      <th>item_id</th>\n",
       "      <th>time</th>\n",
       "      <th>time_shift</th>\n",
       "      <th>neg_items</th>\n",
       "    </tr>\n",
       "  </thead>\n",
       "  <tbody>\n",
       "    <tr>\n",
       "      <th>44223</th>\n",
       "      <td>561</td>\n",
       "      <td>4759</td>\n",
       "      <td>1335908139</td>\n",
       "      <td>NaN</td>\n",
       "      <td>[2733, 21244, 30404, 32104, 20758, 14936, 1543...</td>\n",
       "    </tr>\n",
       "    <tr>\n",
       "      <th>60855</th>\n",
       "      <td>618</td>\n",
       "      <td>5817</td>\n",
       "      <td>1336765966</td>\n",
       "      <td>NaN</td>\n",
       "      <td>[23307, 36951, 13161, 26636, 33076, 13393, 143...</td>\n",
       "    </tr>\n",
       "    <tr>\n",
       "      <th>69116</th>\n",
       "      <td>497</td>\n",
       "      <td>2389</td>\n",
       "      <td>1337104813</td>\n",
       "      <td>NaN</td>\n",
       "      <td>[8390, 895, 30143, 32905, 26814, 25969, 13689,...</td>\n",
       "    </tr>\n",
       "    <tr>\n",
       "      <th>70622</th>\n",
       "      <td>795</td>\n",
       "      <td>23116</td>\n",
       "      <td>1337173212</td>\n",
       "      <td>NaN</td>\n",
       "      <td>[18492, 14673, 26267, 30333, 20644, 11835, 173...</td>\n",
       "    </tr>\n",
       "    <tr>\n",
       "      <th>74949</th>\n",
       "      <td>1023</td>\n",
       "      <td>23816</td>\n",
       "      <td>1337378381</td>\n",
       "      <td>NaN</td>\n",
       "      <td>[18505, 15836, 7789, 24405, 26952, 25172, 3811...</td>\n",
       "    </tr>\n",
       "  </tbody>\n",
       "</table>\n",
       "</div>"
      ],
      "text/plain": [
       "       user_id  item_id        time  time_shift  \\\n",
       "44223      561     4759  1335908139         NaN   \n",
       "60855      618     5817  1336765966         NaN   \n",
       "69116      497     2389  1337104813         NaN   \n",
       "70622      795    23116  1337173212         NaN   \n",
       "74949     1023    23816  1337378381         NaN   \n",
       "\n",
       "                                               neg_items  \n",
       "44223  [2733, 21244, 30404, 32104, 20758, 14936, 1543...  \n",
       "60855  [23307, 36951, 13161, 26636, 33076, 13393, 143...  \n",
       "69116  [8390, 895, 30143, 32905, 26814, 25969, 13689,...  \n",
       "70622  [18492, 14673, 26267, 30333, 20644, 11835, 173...  \n",
       "74949  [18505, 15836, 7789, 24405, 26952, 25172, 3811...  "
      ]
     },
     "execution_count": 37,
     "metadata": {},
     "output_type": "execute_result"
    }
   ],
   "source": [
    "test_df.head()"
   ]
  },
  {
   "cell_type": "code",
   "execution_count": 38,
   "id": "4d2a5b88",
   "metadata": {
    "ExecuteTime": {
     "end_time": "2023-05-07T10:30:59.327884Z",
     "start_time": "2023-05-07T10:30:57.160331Z"
    }
   },
   "outputs": [],
   "source": [
    "data = pd.concat((train_df, dev_df[['user_id', 'item_id', 'time']], test_df[['user_id', 'item_id', 'time']]))\n",
    "data.to_csv('4Square_NYC/data.csv', index=None)"
   ]
  },
  {
   "cell_type": "code",
   "execution_count": 39,
   "id": "ba8db55d",
   "metadata": {
    "ExecuteTime": {
     "end_time": "2023-05-07T10:31:04.147965Z",
     "start_time": "2023-05-07T10:31:01.897692Z"
    }
   },
   "outputs": [],
   "source": [
    "# save results\n",
    "\n",
    "train_df.to_csv(os.path.join(RAW_PATH, 'train.csv'), sep='\\t', index=False)\n",
    "dev_df.to_csv(os.path.join(RAW_PATH, 'dev.csv'), sep='\\t', index=False)\n",
    "test_df.to_csv(os.path.join(RAW_PATH, 'test.csv'), sep='\\t', index=False)"
   ]
  }
 ],
 "metadata": {
  "kernelspec": {
   "display_name": "Python 3",
   "language": "python",
   "name": "python3"
  },
  "language_info": {
   "codemirror_mode": {
    "name": "ipython",
    "version": 3
   },
   "file_extension": ".py",
   "mimetype": "text/x-python",
   "name": "python",
   "nbconvert_exporter": "python",
   "pygments_lexer": "ipython3",
   "version": "3.9.12"
  },
  "toc": {
   "base_numbering": 1,
   "nav_menu": {},
   "number_sections": true,
   "sideBar": true,
   "skip_h1_title": false,
   "title_cell": "Table of Contents",
   "title_sidebar": "Contents",
   "toc_cell": false,
   "toc_position": {},
   "toc_section_display": true,
   "toc_window_display": false
  },
  "varInspector": {
   "cols": {
    "lenName": 16,
    "lenType": 16,
    "lenVar": 40
   },
   "kernels_config": {
    "python": {
     "delete_cmd_postfix": "",
     "delete_cmd_prefix": "del ",
     "library": "var_list.py",
     "varRefreshCmd": "print(var_dic_list())"
    },
    "r": {
     "delete_cmd_postfix": ") ",
     "delete_cmd_prefix": "rm(",
     "library": "var_list.r",
     "varRefreshCmd": "cat(var_dic_list()) "
    }
   },
   "types_to_exclude": [
    "module",
    "function",
    "builtin_function_or_method",
    "instance",
    "_Feature"
   ],
   "window_display": false
  }
 },
 "nbformat": 4,
 "nbformat_minor": 5
}
